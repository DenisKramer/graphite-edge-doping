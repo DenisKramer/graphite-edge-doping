{
 "cells": [
  {
   "cell_type": "markdown",
   "metadata": {},
   "source": [
    "# Display Wannier Orbitals"
   ]
  },
  {
   "cell_type": "markdown",
   "metadata": {},
   "source": [
    "## I/O Functions"
   ]
  },
  {
   "cell_type": "code",
   "execution_count": 57,
   "metadata": {},
   "outputs": [],
   "source": [
    "import numpy as np\n",
    "from tvtk.api import tvtk\n",
    "from mayavi.scripts import mayavi2\n",
    "\n",
    "def import_xsf(filenames):\n",
    "    '''\n",
    "    This functions reads a 3D dataset form a xsf file and returns the corresponding vtk structured grid data-set\n",
    "    \n",
    "    Input:      filname - Name of the xsf file\n",
    "    \n",
    "    Return:     sgrid - vtkStructuredGrid instance containing the 3D dataset\n",
    "                        or null if no 3D data set is contained in the file\n",
    "    '''\n",
    "    \n",
    "    def read_tokens(f):\n",
    "        '''\n",
    "            Reads space separated values from a text file going across lines\n",
    "            \n",
    "            Usage:\n",
    "                tokens = read_tokens(f)\n",
    "                value1 = next(tokens)\n",
    "                value2 = next(tokens)\n",
    "                ...\n",
    "        '''\n",
    "        for line in f:\n",
    "            for token in line.split():\n",
    "                yield token\n",
    "            \n",
    "    def read_3d_datagrid(f):\n",
    "        '''\n",
    "            Read a BLOCK_DATAGRID_3D block from a XSF file.\n",
    "            \n",
    "            Input:    f - file object positioned after the BEGIN_BLOCK_DATAGRID_3D line\n",
    "            \n",
    "            Returns:  dims    - integer array of dimension 3 containing the number of points in all directions\n",
    "                      points  - cartesian coordinates of all grid points in FORTRAN order (x axis has fastest index)\n",
    "                      values  - volume data a points coordinates            \n",
    "        '''\n",
    "        \n",
    "        # Skip next two lines\n",
    "        f.readline()\n",
    "        f.readline()\n",
    "\n",
    "        # Read dataset size\n",
    "        l = [int(a) for a in f.readline().split()]\n",
    "        nvalues = l[0]*l[1]*l[2]\n",
    "\n",
    "        # Read geometry \n",
    "        origin = [float(a) for a in f.readline().split()]\n",
    "        lattice_a = np.array([float(a) for a in f.readline().split()])\n",
    "        lattice_b = np.array([float(a) for a in f.readline().split()])\n",
    "        lattice_c = np.array([float(a) for a in f.readline().split()])\n",
    "\n",
    "        data = np.zeros(nvalues)\n",
    "        tokens = read_tokens(f)\n",
    "        # Read volume data\n",
    "        for x in range(nvalues):\n",
    "            data[x]= float(next(tokens))\n",
    "\n",
    "        # Prepare coordinate arrays\n",
    "        points = np.empty([nvalues,3])\n",
    "        for k in range(l[2]):\n",
    "            for j in range(l[1]):\n",
    "                for i in range(l[0]):\n",
    "                    idx = i + j*l[0] + k*l[0]*l[1]\n",
    "                    points[idx,:] = i*lattice_a/l[0] + j*lattice_b/l[1] + k*lattice_c/l[2] + origin\n",
    "\n",
    "         # Make the data.\n",
    "        dims = (l[0], l[1], l[2])\n",
    "\n",
    "        return dims,points,data\n",
    "    \n",
    "    global sum_values \n",
    "    sum_values = None\n",
    "    \n",
    "    for fn in filenames:\n",
    "        \n",
    "        print('Processing {}'.format(fn))\n",
    "        \n",
    "        # Process entire file and extract data\n",
    "        with open(fn) as f:\n",
    "            \n",
    "            sgrid = None\n",
    "\n",
    "            for line in f:\n",
    "                \n",
    "                if line.strip() == 'BEGIN_BLOCK_DATAGRID_3D': \n",
    "                    dims, points, values = read_3d_datagrid(f)\n",
    "                    \n",
    "                    if sum_values is None:\n",
    "                        sum_values = np.absolute(values)\n",
    "                    else:\n",
    "                        sum_values = sum_values + np.absolute(values)\n",
    "                    \n",
    "    sgrid = tvtk.StructuredGrid(dimensions=dims)\n",
    "    sgrid.points = points\n",
    "\n",
    "    sgrid.point_data.scalars = sum_values\n",
    "    sgrid.point_data.scalars.name = 'scalars'\n",
    "\n",
    "                    \n",
    "    return sgrid"
   ]
  },
  {
   "cell_type": "markdown",
   "metadata": {},
   "source": [
    "\n",
    "# Visualise Orbitals"
   ]
  },
  {
   "cell_type": "code",
   "execution_count": 63,
   "metadata": {},
   "outputs": [
    {
     "name": "stdout",
     "output_type": "stream",
     "text": [
      "Processing wannier90.dn_00113.xsf\n",
      "Processing wannier90.dn_00114.xsf\n",
      "Processing wannier90.dn_00115.xsf\n",
      "Processing wannier90.dn_00116.xsf\n",
      "Processing wannier90.dn_00117.xsf\n",
      "Processing wannier90.dn_00118.xsf\n",
      "Processing wannier90.dn_00119.xsf\n",
      "Processing wannier90.dn_00120.xsf\n"
     ]
    },
    {
     "data": {
      "text/plain": [
       "1"
      ]
     },
     "execution_count": 63,
     "metadata": {},
     "output_type": "execute_result"
    }
   ],
   "source": [
    "filenames = ['wannier90.dn_{:05n}.xsf'.format(i+1) for i in range(112,120)]\n",
    "sgrid = import_xsf(filenames)\n",
    "w = tvtk.XMLStructuredGridWriter(file_name=\"orbital_O-pxz.vts\")\n",
    "w.set_input_data(sgrid)\n",
    "w.write()"
   ]
  },
  {
   "cell_type": "code",
   "execution_count": null,
   "metadata": {},
   "outputs": [],
   "source": []
  }
 ],
 "metadata": {
  "kernelspec": {
   "display_name": "Python 3 (ipykernel)",
   "language": "python",
   "name": "python3"
  },
  "language_info": {
   "codemirror_mode": {
    "name": "ipython",
    "version": 3
   },
   "file_extension": ".py",
   "mimetype": "text/x-python",
   "name": "python",
   "nbconvert_exporter": "python",
   "pygments_lexer": "ipython3",
   "version": "3.8.10"
  }
 },
 "nbformat": 4,
 "nbformat_minor": 2
}
